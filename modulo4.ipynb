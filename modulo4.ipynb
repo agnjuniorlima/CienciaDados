{
  "nbformat": 4,
  "nbformat_minor": 0,
  "metadata": {
    "colab": {
      "provenance": []
    },
    "kernelspec": {
      "name": "python3",
      "display_name": "Python 3"
    },
    "language_info": {
      "name": "python"
    }
  },
  "cells": [
    {
      "cell_type": "code",
      "execution_count": null,
      "metadata": {
        "colab": {
          "base_uri": "https://localhost:8080/"
        },
        "id": "A4GHqj8INuba",
        "outputId": "eaec3ee9-39df-41fe-88a9-65d8ad9a10bf"
      },
      "outputs": [
        {
          "output_type": "stream",
          "name": "stdout",
          "text": [
            "Writing carros.csv\n"
          ]
        }
      ],
      "source": [
        "%%writefile carros.csv\n",
        "id,valor_venda,valor_manutencao,portas,pessoas,porta_malas\n",
        "1,vhigh,med,2,2,small\n",
        "2,med,vhigh,2,2,small\n",
        "3,low,vhigh,2,2,small\n",
        "4,low,high,2,2,small\n",
        "5,low,high,2,2,small\n",
        "6,low,high,4,4,big\n",
        "7,low,high,4,4,big\n",
        "8,low,med,2,2,small\n",
        "9,low,med,2,2,small\n",
        "10,low,med,2,2,small\n",
        "11,low,med,4,4,big\n",
        "12,low,low,2,2,small\n",
        "13,low,low,4,4,small\n",
        "14,low,low,4,4,med"
      ]
    },
    {
      "cell_type": "code",
      "source": [
        "%%writefile musica.txt\n",
        "Roda Viva\n",
        "Chico Buarque\n",
        "Tem dias que a gente se sente\n",
        "Como quem partiu ou morreu\n",
        "A gente estancou de repente\n",
        "Ou foi o mundo então que cresceu\n",
        "A gente quer ter voz ativa\n",
        "No nosso destino mandar\n",
        "Mas eis que chega a roda viva\n",
        "E carrega o destino pra lá\n",
        "Roda mundo, roda-gigante\n",
        "Roda moinho, roda pião\n",
        "O tempo rodou num instante\n",
        "Nas voltas do meu coração\n",
        "A gente vai contra a corrente\n",
        "Até não poder resistir\n",
        "Na volta do barco é que sente\n",
        "O quanto deixou de cumprir\n",
        "Faz tempo que a gente cultiva\n",
        "A mais linda roseira que há\n",
        "Mas eis que chega a roda viva\n",
        "E carrega a roseira pra lá\n",
        "Roda mundo, roda-gigante\n",
        "Roda moinho, roda pião\n",
        "Overwriting musica.txt"
      ],
      "metadata": {
        "colab": {
          "base_uri": "https://localhost:8080/"
        },
        "id": "w2iQkw2NXCaK",
        "outputId": "752ee29d-d0d1-4a42-8f35-bdbd073c9a45"
      },
      "execution_count": null,
      "outputs": [
        {
          "output_type": "stream",
          "name": "stdout",
          "text": [
            "Writing musica.txt\n"
          ]
        }
      ]
    },
    {
      "cell_type": "code",
      "source": [
        "#Exercicio 1.1\n",
        "valor_venda = []\n",
        "\n",
        "\n",
        "with open(file='./carros.csv', mode='r', encoding='utf8') as arquivo:\n",
        "  linha = arquivo.readline() #ler a primeira linha que é o cabeçalho\n",
        "  linha = arquivo.readline() #ler a segunda linha que é os dados\n",
        "  while linha:\n",
        "    # quebra a string nas virgulas e salva os resultados em uma lista\n",
        "    linha_separada = linha.split(sep=',')\n",
        "\n",
        "    #pego o segundo elemento da linha_separada e jogo em uma variavel chamada valor_ven\n",
        "    valor_ven = linha_separada[1]\n",
        "    \n",
        "    #faço um append na lista valor_venda\n",
        "    valor_venda.append(valor_ven)\n",
        "    #ler uma nova linha, se não existir retorna None\n",
        "    linha = arquivo.readline()\n",
        "    \n",
        "    \n",
        "print(valor_venda)"
      ],
      "metadata": {
        "colab": {
          "base_uri": "https://localhost:8080/"
        },
        "id": "G427rqaQXSgS",
        "outputId": "6a5c2455-683a-42fd-ed6a-b30bbbf98177"
      },
      "execution_count": null,
      "outputs": [
        {
          "output_type": "stream",
          "name": "stdout",
          "text": [
            "['vhigh', 'med', 'low', 'low', 'low', 'low', 'low', 'low', 'low', 'low', 'low', 'low', 'low', 'low']\n"
          ]
        }
      ]
    },
    {
      "cell_type": "code",
      "source": [
        "#Exercicio 1.2\n",
        "def extrair_coluna_csv(nome_arquivo: str, indice_coluna: int):\n",
        "  coluna = []\n",
        "  \n",
        "  with open(file=nome_arquivo, mode='r', encoding='utf8') as arquivo:\n",
        "    linha = arquivo.readline() #ler a primeira linha que é o cabeçalho\n",
        "    linha = arquivo.readline() #ler a segunda linha que é os dados\n",
        "\n",
        "    while linha:\n",
        "      # quebra a string nas virgulas e salva os resultados em uma lista\n",
        "      linha_separada = linha.split(sep=',')\n",
        "\n",
        "      #pego o segundo elemento da linha_separada e jogo em uma variavel chamada valor_vend\n",
        "      valor_ven = linha_separada[indice_coluna]\n",
        "    \n",
        "      #faço um append na lista valor_venda\n",
        "      coluna.append(valor_ven)\n",
        "      #ler uma nova linha, se não existir retorna None\n",
        "      linha = arquivo.readline()\n",
        "    return coluna\n",
        "\n",
        "\n",
        "nome_arq = './carros.csv'\n",
        "indice_col = 1\n",
        "\n",
        "colunas = extrair_coluna_csv(nome_arquivo=nome_arq, indice_coluna=indice_col)\n",
        "print(colunas)\n",
        "\n",
        "\n",
        "\n"
      ],
      "metadata": {
        "colab": {
          "base_uri": "https://localhost:8080/"
        },
        "id": "pWg14yVtvP27",
        "outputId": "1c0c2552-1876-4d3c-a113-079ea93b771e"
      },
      "execution_count": null,
      "outputs": [
        {
          "output_type": "stream",
          "name": "stdout",
          "text": [
            "['vhigh', 'med', 'low', 'low', 'low', 'low', 'low', 'low', 'low', 'low', 'low', 'low', 'low', 'low']\n"
          ]
        }
      ]
    },
    {
      "cell_type": "code",
      "source": [
        "#Exercicio bonus - 1\n",
        "def extrair_coluna_csv(nome_arquivo: str, indice_coluna: int, tipo_dado: str):\n",
        "  coluna = []\n",
        "  \n",
        "  \n",
        "  with open(file=nome_arquivo, mode='r', encoding='utf8') as arquivo:\n",
        "    linha = arquivo.readline() #ler a primeira linha que é o cabeçalho\n",
        "    linha = arquivo.readline() #ler a segunda linha que é os dados\n",
        "\n",
        "    while linha:\n",
        "      # quebra a string nas virgulas e salva os resultados em uma lista\n",
        "      linha_separada = linha.split(sep=',')\n",
        "\n",
        "      #pego o segundo elemento da linha_separada e jogo em uma variavel chamada valor_vend\n",
        "      valor_ven = linha_separada[indice_coluna]\n",
        "      linha = arquivo.readline()\n",
        "      \n",
        "      if tipo_dado == 'str':\n",
        "\n",
        "        #faço um append na lista valor_venda\n",
        "        coluna.append(valor_ven)\n",
        "        \n",
        "      else:\n",
        "        coluna.append(str(valor_ven))\n",
        "\n",
        "        #ler uma nova linha, se não existir retorna None\n",
        "        linha = arquivo.readline()\n",
        "        print('else')\n",
        "   \n",
        "  return coluna\n",
        "\n",
        "nome_arq = './carros.csv'\n",
        "indice_col = 1\n",
        "\n",
        "#se alterarmos o parametro para inteiro o retorno será uma lista com os dados também\n",
        "#['vhigh', 'med', 'low', 'low', 'low', 'low', 'low', 'low', 'low', 'low', 'low', 'low', 'low', 'low']\n",
        "\n",
        "colunas = extrair_coluna_csv(nome_arquivo=nome_arq, indice_coluna=indice_col, tipo_dado='str')\n",
        "print(colunas)\n",
        "\n"
      ],
      "metadata": {
        "colab": {
          "base_uri": "https://localhost:8080/"
        },
        "id": "JB12G5Wsg3z6",
        "outputId": "b3f03ab2-2ae6-4295-ff08-fc0db8f4539e"
      },
      "execution_count": null,
      "outputs": [
        {
          "output_type": "stream",
          "name": "stdout",
          "text": [
            "['vhigh', 'med', 'low', 'low', 'low', 'low', 'low', 'low', 'low', 'low', 'low', 'low', 'low', 'low']\n"
          ]
        }
      ]
    },
    {
      "cell_type": "code",
      "source": [
        "#Exercicio bonus 2\n",
        "def extrair_linha_txt(nome_arquivo: str, numero_linha: int):\n",
        "  palavra_linha = []\n",
        "  with open(file=nome_arquivo, mode='r', encoding='utf8') as musica_txt:\n",
        "    #inicializando lendo a primeira linha\n",
        "    linha = musica_txt.readline()\n",
        "\n",
        "    #quebrando o texto e colocando em uma lista\n",
        "    while linha:\n",
        "      linha_sep = linha.split(sep=' ')\n",
        "      valor_linha = linha_sep\n",
        "      palavra_linha.append(valor_linha)\n",
        "      linha = musica_txt.readline()\n",
        "    \n",
        "    #percorrendo a lista de lista e retornando o indice dela\n",
        "    for i in range(len(palavra_linha)):\n",
        "      if numero_linha == numero_linha:\n",
        "        return palavra_linha[numero_linha]\n",
        "      else:\n",
        "        return palavra_linha\n",
        "      \n",
        "      \n",
        "   \n",
        "#levando em consideração a quantidade de linhas, o indice 8 é o que se acemelha com a frase \n",
        "arquivo_musica = './musica.txt'\n",
        "n_linha = 8\n",
        "linha10 = extrair_linha_txt(nome_arquivo=arquivo_musica, numero_linha=n_linha)\n",
        "print(linha10)\n"
      ],
      "metadata": {
        "colab": {
          "base_uri": "https://localhost:8080/"
        },
        "id": "G17Tx0urwqxr",
        "outputId": "0b93a121-437e-41e1-daa0-4be3cbeff2b9"
      },
      "execution_count": null,
      "outputs": [
        {
          "output_type": "stream",
          "name": "stdout",
          "text": [
            "['Mas', 'eis', 'que', 'chega', 'a', 'roda', 'viva\\n']\n"
          ]
        }
      ]
    }
  ]
}