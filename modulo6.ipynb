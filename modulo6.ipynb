{
  "nbformat": 4,
  "nbformat_minor": 0,
  "metadata": {
    "colab": {
      "provenance": []
    },
    "kernelspec": {
      "name": "python3",
      "display_name": "Python 3"
    },
    "language_info": {
      "name": "python"
    }
  },
  "cells": [
    {
      "cell_type": "code",
      "execution_count": 1,
      "metadata": {
        "colab": {
          "base_uri": "https://localhost:8080/"
        },
        "id": "5SY9fuwMPOH2",
        "outputId": "96908662-2ed2-4209-950d-2b00a536cde1"
      },
      "outputs": [
        {
          "output_type": "stream",
          "name": "stdout",
          "text": [
            "Writing carros.csv\n"
          ]
        }
      ],
      "source": [
        "%%writefile carros.csv\n",
        "id,valor_venda,valor_manutencao,portas,pessoas,porta_malas\n",
        "1,vhigh,med,2,2,small\n",
        "2,med,vhigh,2,2,small\n",
        "3,low,vhigh,2,2,small\n",
        "4,low,high,2,2,small\n",
        "5,low,high,2,2,small\n",
        "6,low,high,4,4,big\n",
        "7,low,high,4,4,big\n",
        "8,low,med,2,2,small\n",
        "9,low,med,2,2,small\n",
        "10,low,med,2,2,small\n",
        "11,low,med,4,4,big\n",
        "12,low,low,2,2,small\n",
        "13,low,low,4,4,small\n",
        "14,low,low,4,4,med"
      ]
    },
    {
      "cell_type": "code",
      "source": [
        "%%writefile musica.txt\n",
        "Roda Viva\n",
        "Chico Buarque\n",
        "Tem dias que a gente se sente\n",
        "Como quem partiu ou morreu\n",
        "A gente estancou de repente\n",
        "Ou foi o mundo então que cresceu\n",
        "A gente quer ter voz ativa\n",
        "No nosso destino mandar\n",
        "Mas eis que chega a roda viva\n",
        "E carrega o destino pra lá\n",
        "Roda mundo, roda-gigante\n",
        "Roda moinho, roda pião\n",
        "O tempo rodou num instante\n",
        "Nas voltas do meu coração\n",
        "A gente vai contra a corrente\n",
        "Até não poder resistir\n",
        "Na volta do barco é que sente\n",
        "O quanto deixou de cumprir\n",
        "Faz tempo que a gente cultiva\n",
        "A mais linda roseira que há\n",
        "Mas eis que chega a roda viva\n",
        "E carrega a roseira pra lá\n",
        "Roda mundo, roda-gigante\n",
        "Roda moinho, roda pião"
      ],
      "metadata": {
        "colab": {
          "base_uri": "https://localhost:8080/"
        },
        "id": "4f_w7pyiW4hx",
        "outputId": "adbc5e74-a49c-4546-da06-ee7ba1f43669"
      },
      "execution_count": 2,
      "outputs": [
        {
          "output_type": "stream",
          "name": "stdout",
          "text": [
            "Writing musica.txt\n"
          ]
        }
      ]
    },
    {
      "cell_type": "markdown",
      "source": [],
      "metadata": {
        "id": "n-AjgXJi6_hC"
      }
    },
    {
      "cell_type": "markdown",
      "source": [
        "excercicio 2"
      ],
      "metadata": {
        "id": "DQcSCwJk7Dl7"
      }
    },
    {
      "cell_type": "code",
      "source": [
        "class ArquivoCSV(object):\n",
        "  def __init__(self, arquivo: str):\n",
        "    self.arquivo = arquivo\n",
        "    self.conteudo = self.extrair_conteudo()\n",
        "    self.coluna = self.extrair_nome_colunas()\n",
        "\n",
        "  def extrair_conteudo(self):\n",
        "    conteudo = None\n",
        "    with open(file=self.arquivo, mode='r', encoding='utf8') as arquivo:\n",
        "      conteudo = arquivo.readlines()\n",
        "    return conteudo\n",
        "\n",
        "  def extrair_nome_colunas(self):\n",
        "    return self.conteudo[0].strip().split(sep=',')\n",
        "\n",
        "  def extrair_coluna(self, indice_coluna: str):\n",
        "    coluna = list()\n",
        "    for linha in self.conteudo:\n",
        "      conteudo_linha = linha.strip().split(sep=',')\n",
        "      coluna.append(conteudo_linha[indice_coluna])\n",
        "    coluna.pop(0)\n",
        "    return coluna\n",
        "    "
      ],
      "metadata": {
        "id": "Kb4pOy5AW6ya"
      },
      "execution_count": 3,
      "outputs": []
    },
    {
      "cell_type": "code",
      "source": [
        "arquivo_csv = ArquivoCSV(arquivo='./carros.csv')\n",
        "print(arquivo_csv.coluna)"
      ],
      "metadata": {
        "colab": {
          "base_uri": "https://localhost:8080/"
        },
        "id": "T6xIyGsYnV-Z",
        "outputId": "12d633b8-bca7-4f3b-9dd5-caf4dfc6b247"
      },
      "execution_count": 4,
      "outputs": [
        {
          "output_type": "stream",
          "name": "stdout",
          "text": [
            "['id', 'valor_venda', 'valor_manutencao', 'portas', 'pessoas', 'porta_malas']\n"
          ]
        }
      ]
    },
    {
      "cell_type": "code",
      "source": [
        "coluna = arquivo_csv.extrair_coluna(indice_coluna=2)\n",
        "print(coluna)"
      ],
      "metadata": {
        "colab": {
          "base_uri": "https://localhost:8080/"
        },
        "id": "a8Kl4tNCJGy5",
        "outputId": "767969b3-90e7-4f2d-8b83-04889a3ea9ad"
      },
      "execution_count": 5,
      "outputs": [
        {
          "output_type": "stream",
          "name": "stdout",
          "text": [
            "['med', 'vhigh', 'vhigh', 'high', 'high', 'high', 'high', 'med', 'med', 'med', 'med', 'low', 'low', 'low']\n"
          ]
        }
      ]
    },
    {
      "cell_type": "markdown",
      "source": [
        "exercicio 1"
      ],
      "metadata": {
        "id": "KMciIROX7BXA"
      }
    },
    {
      "cell_type": "code",
      "source": [
        "class ArquivoTexto(object):\n",
        "  def __init__(self, arquivo_txt: str):\n",
        "    self.arquivo_txt = arquivo_txt\n",
        "    self.conteudo = self._extrair_conteudo()\n",
        "    \n",
        "  def _extrair_conteudo(self):\n",
        "      conteudo = []\n",
        "\n",
        "      with open(file=self.arquivo_txt, mode='r', encoding='utf8') as arquivo_txt:\n",
        "        \n",
        "       \n",
        "        linha = arquivo_txt.readline()\n",
        "\n",
        "       #quebrando o texto e colocando em uma lista\n",
        "        while linha:\n",
        "          linha_sep = linha.split(sep=' ')\n",
        "          conteudo.append(linha_sep)\n",
        "          linha = arquivo_txt.readline()\n",
        "         \n",
        "      return conteudo\n",
        "      \n",
        "  def extrair_linha(self, numero_linha: int):\n",
        "    \n",
        "    return self.conteudo[numero_linha - 1]\n",
        "     \n",
        "\n",
        "\n",
        "   "
      ],
      "metadata": {
        "id": "Lzdm3vdiimcR"
      },
      "execution_count": 6,
      "outputs": []
    },
    {
      "cell_type": "code",
      "source": [
        "arquivo_texto = ArquivoTexto(arquivo_txt='./musica.txt')\n",
        "#print(arquivo_texto._extrair_conteudo())\n",
        "\n",
        "\n",
        "print(arquivo_texto.extrair_linha(numero_linha=9))\n",
        "\n"
      ],
      "metadata": {
        "colab": {
          "base_uri": "https://localhost:8080/"
        },
        "id": "iR3UbiaTrvrI",
        "outputId": "1aa6aa96-81a0-4dd5-9aab-ba9820f96d2c"
      },
      "execution_count": 7,
      "outputs": [
        {
          "output_type": "stream",
          "name": "stdout",
          "text": [
            "['Mas', 'eis', 'que', 'chega', 'a', 'roda', 'viva\\n']\n"
          ]
        }
      ]
    },
    {
      "cell_type": "markdown",
      "source": [
        "EXERCICIO BONUS"
      ],
      "metadata": {
        "id": "8_hkVEszSLjB"
      }
    },
    {
      "cell_type": "code",
      "source": [
        "class ArquivoCSV2(ArquivoCSV):\n",
        "  def __init__(self, arquivo: str):\n",
        "    super().__init__(arquivo=arquivo)\n",
        "    self.colunas = self.extrair_nome_colunas()\n",
        "\n",
        "  def extrair_coluna_da_linha(self, numero_linha: int, indice_coluna: int):\n",
        "    coluna = None\n",
        "    with open(file=self.arquivo, mode='r', encoding='utf8') as arquivo:\n",
        "      coluna = arquivo.readlines()\n",
        "    return coluna\n",
        "\n",
        "    def extrair_coluna(self, indice_coluna: int):\n",
        "      linha = list()\n",
        "      for linha in self.conteudo():\n",
        "        linha.append(linha[:-1])\n",
        "      return linha[indice_coluna]\n",
        "\n"
      ],
      "metadata": {
        "id": "8Rr4GzjOSKoZ"
      },
      "execution_count": 18,
      "outputs": []
    },
    {
      "cell_type": "code",
      "source": [
        "arquivo_csv2 = ArquivoCSV2(arquivo='./carros.csv')\n",
        "numero_linha = 1\n",
        "indice_coluna = 2\n",
        "print(arquivo_csv2.extrair_coluna_da_linha(numero_linha=numero_linha, indice_coluna=indice_coluna))"
      ],
      "metadata": {
        "id": "mMLN-B4AW8nb",
        "colab": {
          "base_uri": "https://localhost:8080/"
        },
        "outputId": "8619dd4e-a621-4b29-d181-f914eadf45a0"
      },
      "execution_count": 20,
      "outputs": [
        {
          "output_type": "stream",
          "name": "stdout",
          "text": [
            "['id,valor_venda,valor_manutencao,portas,pessoas,porta_malas\\n', '1,vhigh,med,2,2,small\\n', '2,med,vhigh,2,2,small\\n', '3,low,vhigh,2,2,small\\n', '4,low,high,2,2,small\\n', '5,low,high,2,2,small\\n', '6,low,high,4,4,big\\n', '7,low,high,4,4,big\\n', '8,low,med,2,2,small\\n', '9,low,med,2,2,small\\n', '10,low,med,2,2,small\\n', '11,low,med,4,4,big\\n', '12,low,low,2,2,small\\n', '13,low,low,4,4,small\\n', '14,low,low,4,4,med\\n']\n"
          ]
        }
      ]
    }
  ]
}