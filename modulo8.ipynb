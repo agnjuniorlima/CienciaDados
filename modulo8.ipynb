{
  "nbformat": 4,
  "nbformat_minor": 0,
  "metadata": {
    "colab": {
      "provenance": []
    },
    "kernelspec": {
      "name": "python3",
      "display_name": "Python 3"
    },
    "language_info": {
      "name": "python"
    }
  },
  "cells": [
    {
      "cell_type": "markdown",
      "source": [],
      "metadata": {
        "id": "i_gUGZVvtjd-"
      }
    },
    {
      "cell_type": "markdown",
      "source": [
        "Laços de repetição"
      ],
      "metadata": {
        "id": "bgVI96V2tlpm"
      }
    },
    {
      "cell_type": "code",
      "execution_count": 2,
      "metadata": {
        "colab": {
          "base_uri": "https://localhost:8080/"
        },
        "id": "fHuT1xtvr-fV",
        "outputId": "2940632a-c03b-4129-e909-abeb03bc3f57"
      },
      "outputs": [
        {
          "output_type": "stream",
          "name": "stdout",
          "text": [
            "Para o documento 123, o valor do escore de credito é 750.\n",
            "Para o documento 456, o valor do escore de credito é 812.\n",
            "Para o documento 789, o valor do escore de credito é 980.\n"
          ]
        }
      ],
      "source": [
        "credito = {'123': 750, '456': 812, '789': 980}\n",
        "for chave, valor in credito.items():\n",
        "  print(f'Para o documento {chave}, o valor do escore de credito é {valor}.')"
      ]
    },
    {
      "cell_type": "markdown",
      "source": [
        "Funções"
      ],
      "metadata": {
        "id": "23UC1Mfmtnw1"
      }
    },
    {
      "cell_type": "code",
      "source": [
        "def pi()-> float:\n",
        "  return 3.14159265359\n",
        "pi = pi()\n",
        "print(pi)"
      ],
      "metadata": {
        "colab": {
          "base_uri": "https://localhost:8080/"
        },
        "id": "tsJnE75ctp2O",
        "outputId": "0a783229-c32d-42b1-f16e-d38ef8ef6174"
      },
      "execution_count": 3,
      "outputs": [
        {
          "output_type": "stream",
          "name": "stdout",
          "text": [
            "3.14159265359\n"
          ]
        }
      ]
    },
    {
      "cell_type": "markdown",
      "source": [
        "Programação Funcional"
      ],
      "metadata": {
        "id": "XSrpLmcE0Z6p"
      }
    },
    {
      "cell_type": "code",
      "source": [
        "emails = ['andre.perez@gmail.com', 'andre.perez@live.com', 'andre.perez@yahoo.com']\n",
        "provedor_da_google = lambda email: 'gmail' in email\n",
        "\n",
        "emails_google = filter(provedor_da_google, emails)\n",
        "print(list(emails_google))\n"
      ],
      "metadata": {
        "colab": {
          "base_uri": "https://localhost:8080/"
        },
        "id": "B_egvW0_0dxb",
        "outputId": "22ecb1cb-11da-4a96-ae82-0af985050e0b"
      },
      "execution_count": 7,
      "outputs": [
        {
          "output_type": "stream",
          "name": "stdout",
          "text": [
            "['andre.perez@gmail.com']\n"
          ]
        }
      ]
    },
    {
      "cell_type": "markdown",
      "source": [
        "Programação orientada a objetos"
      ],
      "metadata": {
        "id": "houoOt4C1YDq"
      }
    },
    {
      "cell_type": "code",
      "source": [
        "class Pessoa(object):\n",
        "  def __init__(self, nome: str, idade: int, documento: str):\n",
        "    self.nome = nome\n",
        "    self.idade = idade\n",
        "    self.documento = documento\n",
        "  \n",
        "agnelo = Pessoa(nome='Agnelo', idade=34, documento='123')\n",
        "print(f'Nome-> {agnelo.nome} Idade-> {agnelo.idade} Documento-> {agnelo.documento}')"
      ],
      "metadata": {
        "colab": {
          "base_uri": "https://localhost:8080/"
        },
        "id": "mVPpdg2D1bCi",
        "outputId": "59021e82-9d33-473f-c3ff-2a242249da15"
      },
      "execution_count": 14,
      "outputs": [
        {
          "output_type": "stream",
          "name": "stdout",
          "text": [
            "Nome-> Agnelo Idade-> 34 Documento-> 123\n"
          ]
        }
      ]
    },
    {
      "cell_type": "markdown",
      "source": [
        "2. Erros em tempo de execução"
      ],
      "metadata": {
        "id": "5SkdiCEl22s0"
      }
    },
    {
      "cell_type": "code",
      "source": [
        "%%writefile credito.csv\n",
        "id_vendedor,valor_emprestimos,quantidade_emprestimos,data\n",
        "104271,448.0,1,20161208\n",
        "21476,826.7,3,20161208\n",
        "87440,313.6,3,20161208\n",
        "15980,808.0,6,20161208\n",
        "215906,2212.0,5,20161208\n",
        "33696,2771.3,2,20161208\n",
        "33893,2240.0,3,20161208\n",
        "214946,\"4151.0\",18,20161208\n",
        "123974,2021.95,2,20161208\n",
        "225870,4039.0,2,20161208"
      ],
      "metadata": {
        "colab": {
          "base_uri": "https://localhost:8080/"
        },
        "id": "npIS8Jie26yz",
        "outputId": "57c9c006-6a3d-4a52-8aa8-07f4340b325f"
      },
      "execution_count": 2,
      "outputs": [
        {
          "output_type": "stream",
          "name": "stdout",
          "text": [
            "Writing credito.csv\n"
          ]
        }
      ]
    },
    {
      "cell_type": "code",
      "source": [
        "frase2 = 'Módulos finalizados: 1, 2, 3, \"4\", \"5\", \"6 e 7'\n",
        "\n",
        "#usar o replace() para trocar o caractere asterisco pelo caractere aspas na string \"frase2\"\n",
        "print(frase2.replace('\"', ''))"
      ],
      "metadata": {
        "colab": {
          "base_uri": "https://localhost:8080/"
        },
        "id": "4cnOxFOv8o4f",
        "outputId": "af53e8f0-6836-494e-f363-d6826a0d9e9a"
      },
      "execution_count": 25,
      "outputs": [
        {
          "output_type": "stream",
          "name": "stdout",
          "text": [
            "Módulos finalizados: 1, 2, 3, 4, 5, 6 e 7\n"
          ]
        }
      ]
    },
    {
      "cell_type": "code",
      "source": [
        "def valor_total_emprestimo(valor: float, quantidade: int) -> float:\n",
        "  return valor * quantidade\n",
        "\n",
        "emprestimos = []\n",
        "\n",
        "with open(file='./credito.csv', mode='r', encoding='utf8') as fp:\n",
        "  fp.readline() # cabeçalho\n",
        "  linha = fp.readline()\n",
        "  while linha:\n",
        "    linha_emprestimo = {}\n",
        "    try:  \n",
        "      \n",
        "      linha_elementos = linha.strip().split(sep=',')\n",
        "      linha_emprestimo['id_vendedor'] = linha_elementos[0]\n",
        "      linha_emprestimo['valor_emprestimos'] = float(linha_elementos[1])\n",
        "      linha_emprestimo['quantidade_emprestimos'] = int(linha_elementos[2])\n",
        "      linha_emprestimo['data'] = linha_elementos[3]\n",
        "      emprestimos.append(linha_emprestimo)\n",
        "      linha = fp.readline()\n",
        "    except:\n",
        "      \n",
        "      linha_elementos = linha.strip().split(sep=',')\n",
        "      \n",
        "      linha_emprestimo['id_vendedor'] = linha_elementos[0]\n",
        "      \n",
        "      #linha onde tem o problema de erro usei o replace para substituir o caracter '\"' por ''\n",
        "      linha_emprestimo['valor_emprestimos'] = float(linha_elementos[1].replace('\"',''))\n",
        "      linha_emprestimo['quantidade_emprestimos'] = int(linha_elementos[2])\n",
        "      linha_emprestimo['data'] = linha_elementos[3]\n",
        "      emprestimos.append(linha_emprestimo)\n",
        "      linha = fp.readline()      \n",
        "\n",
        "  emprestimos_total = []\n",
        "\n",
        "for emprestimo in emprestimos:\n",
        "  valor_total = valor_total_emprestimo(valor=emprestimo['valor_emprestimos'], quantidade=emprestimo['quantidade_emprestimos'])\n",
        "  emprestimos_total.append({emprestimo['id_vendedor']: valor_total})\n",
        "\n",
        "for emprestimo_total in emprestimos_total:\n",
        "  print(emprestimo_total)"
      ],
      "metadata": {
        "colab": {
          "base_uri": "https://localhost:8080/"
        },
        "id": "a9JRltrn9Kqm",
        "outputId": "5d5d920c-8f54-4ee6-fc35-912c03df22fa"
      },
      "execution_count": 34,
      "outputs": [
        {
          "output_type": "stream",
          "name": "stdout",
          "text": [
            "{'104271': 448.0}\n",
            "{'21476': 2480.1000000000004}\n",
            "{'87440': 940.8000000000001}\n",
            "{'15980': 4848.0}\n",
            "{'215906': 11060.0}\n",
            "{'33696': 5542.6}\n",
            "{'33893': 6720.0}\n",
            "{'214946': 74718.0}\n",
            "{'123974': 4043.9}\n",
            "{'225870': 8078.0}\n"
          ]
        }
      ]
    }
  ]
}