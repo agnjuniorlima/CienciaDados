{
  "nbformat": 4,
  "nbformat_minor": 0,
  "metadata": {
    "colab": {
      "provenance": []
    },
    "kernelspec": {
      "name": "python3",
      "display_name": "Python 3"
    },
    "language_info": {
      "name": "python"
    }
  },
  "cells": [
    {
      "cell_type": "markdown",
      "source": [
        "# Exercicio 1"
      ],
      "metadata": {
        "id": "ZtLoJh2bsKLO"
      }
    },
    {
      "cell_type": "code",
      "source": [
        "%%writefile credito.csv\n",
        "id_vendedor,valor_emprestimos,quantidade_emprestimos,data\n",
        "104271,448.0,1,20161208\n",
        "21476,826.7,3,20161208\n",
        "87440,313.6,3,20161208\n",
        "15980,-8008.0,6,20161208\n",
        "215906,2212.0,5,20161208\n",
        "33696,2771.3,2,20161208\n",
        "33893,2240.0,3,20161208\n",
        "214946,-4151.0,18,20161208\n",
        "123974,2021.95,2,20161208\n",
        "225870,4039.0,2,20161208"
      ],
      "metadata": {
        "colab": {
          "base_uri": "https://localhost:8080/"
        },
        "id": "YFGGZjkXsb4R",
        "outputId": "270f4d3d-8c54-4474-9bec-924e3a3499b1"
      },
      "execution_count": null,
      "outputs": [
        {
          "output_type": "stream",
          "name": "stdout",
          "text": [
            "Writing credito.csv\n"
          ]
        }
      ]
    },
    {
      "cell_type": "code",
      "source": [
        "emprestimos = []\n",
        "with open(file='./credito.csv', mode='r', encoding='utf8') as fp:\n",
        "  fp.readline() #ler cabecalho\n",
        "  linha = fp.readline()\n",
        "  while linha:\n",
        "    linha_emprestimo = {}\n",
        "    linha_elementos = linha.strip().split(sep=',')\n",
        "    linha_emprestimo['id_vendedor'] = linha_elementos[0]\n",
        "    linha_emprestimo['valor_emprestimos'] = linha_elementos[1]\n",
        "    linha_emprestimo['quantidade_emprestimos'] = linha_elementos[2]\n",
        "    linha_emprestimo['data'] = linha_elementos[3]\n",
        "    emprestimos.append(linha_elementos)\n",
        "    linha = fp.readline()\n",
        "\n",
        "for emprestimo in emprestimos:\n",
        "  print(emprestimo)"
      ],
      "metadata": {
        "colab": {
          "base_uri": "https://localhost:8080/"
        },
        "id": "ce7uhNC7BXOX",
        "outputId": "87d679a1-0cda-4ad0-db3f-a059e17387a2"
      },
      "execution_count": null,
      "outputs": [
        {
          "output_type": "stream",
          "name": "stdout",
          "text": [
            "['104271', '448.0', '1', '20161208']\n",
            "['21476', '826.7', '3', '20161208']\n",
            "['87440', '313.6', '3', '20161208']\n",
            "['15980', '-8008.0', '6', '20161208']\n",
            "['215906', '2212.0', '5', '20161208']\n",
            "['33696', '2771.3', '2', '20161208']\n",
            "['33893', '2240.0', '3', '20161208']\n",
            "['214946', '-4151.0', '18', '20161208']\n",
            "['123974', '2021.95', '2', '20161208']\n",
            "['225870', '4039.0', '2', '20161208']\n"
          ]
        }
      ]
    },
    {
      "cell_type": "markdown",
      "source": [
        "Aplique a função map na lista de `emprestimos` para extrair os valores da chave `valor_emprestimos` na lista `valor_emprestimos_lista`. Faça também a conversão de `str` para `float`."
      ],
      "metadata": {
        "id": "1NPO_RjlGKm6"
      }
    },
    {
      "cell_type": "markdown",
      "source": [
        "## 1\\. Função `map`"
      ],
      "metadata": {
        "id": "z0qnGiWgM7lm"
      }
    },
    {
      "cell_type": "code",
      "source": [
        "valor_emprestimo_lista = list(map(lambda emprestimos: float(emprestimos[1]), emprestimos))\n",
        "print(f'lista Valor emprestimo -> {valor_emprestimo_lista}')"
      ],
      "metadata": {
        "colab": {
          "base_uri": "https://localhost:8080/"
        },
        "id": "PnqZaP9tDcMD",
        "outputId": "d57cfd54-e35a-4ba2-ea4a-61b9d41f7a06"
      },
      "execution_count": null,
      "outputs": [
        {
          "output_type": "stream",
          "name": "stdout",
          "text": [
            "lista Valor emprestimo -> [448.0, 826.7, 313.6, -8008.0, 2212.0, 2771.3, 2240.0, -4151.0, 2021.95, 4039.0]\n"
          ]
        }
      ]
    },
    {
      "cell_type": "markdown",
      "source": [
        "## 2\\. Função `filter`"
      ],
      "metadata": {
        "id": "cC_h3ILKM_qA"
      }
    },
    {
      "cell_type": "code",
      "source": [
        "valor_emprestimo_lista_filtrada = list(filter(lambda valor_emprestimo_lista: valor_emprestimo_lista > 0 , valor_emprestimo_lista))\n",
        "print(f'Lista -> {valor_emprestimo_lista_filtrada}')"
      ],
      "metadata": {
        "colab": {
          "base_uri": "https://localhost:8080/"
        },
        "id": "4zGvltGDzqg-",
        "outputId": "5309478f-cb9b-4cf5-8423-bfcb20a04ccd"
      },
      "execution_count": null,
      "outputs": [
        {
          "output_type": "stream",
          "name": "stdout",
          "text": [
            "Lista -> [448.0, 826.7, 313.6, 2212.0, 2771.3, 2240.0, 2021.95, 4039.0]\n"
          ]
        }
      ]
    },
    {
      "cell_type": "markdown",
      "source": [
        "## 3\\. Função `reduce`\n",
        "### 3\\.1\\. Função `reduce` para extrair a **soma**"
      ],
      "metadata": {
        "id": "5CkGK1lONM9d"
      }
    },
    {
      "cell_type": "markdown",
      "source": [
        "Aplique a função reduce para somar os elementos da lista `valor_emprestimos_lista_filtrada` na variavel `soma_valor_emprestimos`."
      ],
      "metadata": {
        "id": "EDtt8llWN8MH"
      }
    },
    {
      "cell_type": "markdown",
      "source": [
        "### 3\\.2\\. Função `reduce` para extrair a **media aritimética**"
      ],
      "metadata": {
        "id": "qJ8uX3XxNpnP"
      }
    },
    {
      "cell_type": "markdown",
      "source": [
        "Aplique a função reduce para extrair a média aritimética (mais informações [aqui](https://pt.wikipedia.org/wiki/M%C3%A9dia#M%C3%A9dia_aritm%C3%A9tica)) dos elementos da lista `valor_emprestimos_lista_filtrada` na variavel `media_valor_emprestimos`.\n",
        "\n",
        "Dica: Para calcular o tamanho da lista, isto é a quantidade de elementos, utilize a função len(), dentro do argumento da função coloque a lista `valor_emprestimos_lista_filtrada`."
      ],
      "metadata": {
        "id": "nJaFTrAwN-J2"
      }
    },
    {
      "cell_type": "code",
      "source": [
        "from functools import reduce\n",
        "\n",
        "soma_valor_emprestimos = reduce(lambda x, y : x + y, valor_emprestimo_lista_filtrada)#função retorna o valor somado\n",
        "media = reduce(lambda x, y : x + y, valor_emprestimo_lista_filtrada) / len(valor_emprestimo_lista_filtrada)#media\n",
        "\n",
        "print(f'Soma dos valores -> {soma_valor_emprestimos:.2f}')#valor somado\n",
        "\n",
        "print(f'Média dos valores emprestimos -> {media:.2f}') #média dos valores\n",
        "\n"
      ],
      "metadata": {
        "colab": {
          "base_uri": "https://localhost:8080/"
        },
        "id": "oL6fA2ILV97I",
        "outputId": "7ce4b127-ad70-45fc-a0a8-53757555e710"
      },
      "execution_count": null,
      "outputs": [
        {
          "output_type": "stream",
          "name": "stdout",
          "text": [
            "Soma dos valores -> 14872.55\n",
            "Média dos valores emprestimos -> 1859.07\n"
          ]
        }
      ]
    },
    {
      "cell_type": "markdown",
      "source": [],
      "metadata": {
        "id": "l19NjDVxNSVz"
      }
    },
    {
      "cell_type": "markdown",
      "source": [
        "### 3\\.3\\. (**Desafio**) Função `reduce` para extrair o **desvio padrão amostral**"
      ],
      "metadata": {
        "id": "0E682olKNiUg"
      }
    },
    {
      "cell_type": "markdown",
      "source": [
        "Aplique a função reduce para extrair a média aritimética (mais informações [aqui](https://pt.wikipedia.org/wiki/M%C3%A9dia#M%C3%A9dia_aritm%C3%A9tica)) dos elementos da lista `valor_emprestimos_lista_filtrada` na variavel `desvio_padrao_valor_emprestimos`."
      ],
      "metadata": {
        "id": "Rl6AObPkNjfA"
      }
    },
    {
      "cell_type": "markdown",
      "source": [
        "#Desvio padrão populacional"
      ],
      "metadata": {
        "id": "6ajDwuo7S71a"
      }
    },
    {
      "cell_type": "code",
      "source": [
        "import math\n",
        "\n",
        "desvio_positivo_negativo = list(map(lambda x: x - media, valor_emprestimo_lista_filtrada )) #subtraindo a média da lista \n",
        "print(f'lista de positivo e negativo -> {desvio_positivo_negativo}')\n",
        "\n",
        "desvio_quadrado = list(map(lambda x: x **2, desvio_positivo_negativo))#tornando os numeros positivos\n",
        "print(f'Soma da lista de Desvio_quadrado -> {desvio_quadrado}')\n",
        "\n",
        "variancia = reduce(lambda x, y: x + y, desvio_quadrado)/len(desvio_quadrado)#variancia\n",
        "print(f'Calculo da Variancia ->  {variancia}')\n",
        "\n",
        "desvio_padrao = math.sqrt(variancia) #raiz da variancia obtendo o desvio padrão\n",
        "print(f'Desvio Padrão Populacional -> {desvio_padrao:.2f}')\n",
        "\n",
        "#ADENDO EU FIZ O DESVIO PADRÃO POPULACIONAL\n",
        "\n",
        "#Desvio Padrão Populacional -> 1189.84\n",
        "\n",
        "\n",
        "\n",
        "\n",
        "\n",
        "\n",
        "\n"
      ],
      "metadata": {
        "colab": {
          "base_uri": "https://localhost:8080/"
        },
        "id": "JcprJC6GEEXO",
        "outputId": "dd5431b1-b7d9-4349-819a-fcf520caa77e"
      },
      "execution_count": null,
      "outputs": [
        {
          "output_type": "stream",
          "name": "stdout",
          "text": [
            "lista de positivo e negativo -> [-1411.0687500000001, -1032.36875, -1545.46875, 352.93124999999986, 912.23125, 380.93124999999986, 162.8812499999999, 2179.9312499999996]\n",
            "Soma da lista de Desvio_quadrado -> [1991115.0172265628, 1065785.2359765626, 2388473.6572265625, 124560.46722656241, 832165.8534765625, 145108.6172265624, 26530.30160156247, 4752100.254726561]\n",
            "Calculo da Variancia ->  1415729.9255859372\n",
            "Desvio Padrão Populacional -> 1189.84\n"
          ]
        }
      ]
    },
    {
      "cell_type": "markdown",
      "source": [
        "Desvio padrão amostral"
      ],
      "metadata": {
        "id": "K884stlTTNOP"
      }
    },
    {
      "cell_type": "code",
      "source": [
        "import math\n",
        "\n",
        "desvio_positivo_negativo = list(map(lambda x: x - media, valor_emprestimo_lista_filtrada )) #subtraindo a média da lista \n",
        "print(f'lista de positivo e negativo -> {desvio_positivo_negativo}')\n",
        "\n",
        "desvio_quadrado = list(map(lambda x: x **2, desvio_positivo_negativo))#tornando os numeros positivos\n",
        "print(f'Soma da lista de Desvio_quadrado -> {desvio_quadrado}')\n",
        "\n",
        "variancia = reduce(lambda x, y: x + y, desvio_quadrado)/(len(desvio_quadrado)-1)#variancia\n",
        "print(f'Calculo da Variancia ->  {variancia}')\n",
        "\n",
        "desvio_padrao = math.sqrt(variancia) #raiz da variancia obtendo o desvio padrão\n",
        "print(f'Desvio Padrão Amostral -> {desvio_padrao:.2f}')\n",
        "\n",
        "#ADENDO EU FIZ O DESVIO PADRÃO AMOSTRAL\n"
      ],
      "metadata": {
        "colab": {
          "base_uri": "https://localhost:8080/"
        },
        "id": "DblfAVW7TLMs",
        "outputId": "f8a7874a-b517-449f-b99f-d8e36c4214d8"
      },
      "execution_count": null,
      "outputs": [
        {
          "output_type": "stream",
          "name": "stdout",
          "text": [
            "lista de positivo e negativo -> [-1411.0687500000001, -1032.36875, -1545.46875, 352.93124999999986, 912.23125, 380.93124999999986, 162.8812499999999, 2179.9312499999996]\n",
            "Soma da lista de Desvio_quadrado -> [1991115.0172265628, 1065785.2359765626, 2388473.6572265625, 124560.46722656241, 832165.8534765625, 145108.6172265624, 26530.30160156247, 4752100.254726561]\n",
            "Calculo da Variancia ->  1617977.0578124996\n",
            "Desvio Padrão Amostral -> 1272.00\n"
          ]
        }
      ]
    }
  ]
}